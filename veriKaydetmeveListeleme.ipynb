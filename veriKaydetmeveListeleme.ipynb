{
  "nbformat": 4,
  "nbformat_minor": 0,
  "metadata": {
    "colab": {
      "provenance": [],
      "authorship_tag": "ABX9TyO7PEV3Wiaj27LpO0h4eDtG",
      "include_colab_link": true
    },
    "kernelspec": {
      "name": "python3",
      "display_name": "Python 3"
    },
    "language_info": {
      "name": "python"
    }
  },
  "cells": [
    {
      "cell_type": "markdown",
      "metadata": {
        "id": "view-in-github",
        "colab_type": "text"
      },
      "source": [
        "<a href=\"https://colab.research.google.com/github/zeyneptaskinnn/hackathon/blob/main/veriKaydetmeveListeleme.ipynb\" target=\"_parent\"><img src=\"https://colab.research.google.com/assets/colab-badge.svg\" alt=\"Open In Colab\"/></a>"
      ]
    },
    {
      "cell_type": "code",
      "execution_count": 1,
      "metadata": {
        "colab": {
          "base_uri": "https://localhost:8080/"
        },
        "id": "o3vEK4EHbpRp",
        "outputId": "f7785d7b-8870-47f3-c0c4-e71afd4f5ba1"
      },
      "outputs": [
        {
          "output_type": "stream",
          "name": "stdout",
          "text": [
            "Başlık: Zeynep'in AEK Kaynağı\n",
            "Anahtar Kelimeler: \"Programlama\" \"Açık Eğitim Kaynağı\" \"Python\" \"Veri Bilimi\" \"Yapay Zeka\" \"Eğitim\" \"Teknoloji\" \"Dijital Eğitim\"\n",
            "Açıklama: \"Bu kaynak, Python programlama dili ile ilgili temel eğitim materyalleri sunmaktadır. Programlamaya yeni başlayanlar için kapsamlı alıştırmalar ve örnekler içermektedir.\"\n",
            "Oluşturan Kişi: Zeynep Taşkın\n",
            "Lisans: MIT License\n",
            "Dil: Türkçe\n",
            "Kaynak URL'si: https://github.com/zeyneptaskinnn/hackathon\n",
            "aek_data.xml dosyasına veri başarıyla eklendi.\n",
            "\n",
            "Listelenen AEK Verileri:\n",
            "{'Title': \"Zeynep'in AEK Kaynağı\", 'Subject': '\"Programlama\" \"Açık Eğitim Kaynağı\" \"Python\" \"Veri Bilimi\" \"Yapay Zeka\" \"Eğitim\" \"Teknoloji\" \"Dijital Eğitim\"', 'Description': '\"Bu kaynak, Python programlama dili ile ilgili temel eğitim materyalleri sunmaktadır. Programlamaya yeni başlayanlar için kapsamlı alıştırmalar ve örnekler içermektedir.\"', 'Creator': 'Zeynep Taşkın', 'License': 'MIT License', 'Language': 'Türkçe', 'Identifier': 'https://github.com/zeyneptaskinnn/hackathon'}\n"
          ]
        }
      ],
      "source": [
        "import xml.etree.ElementTree as ET\n",
        "import os\n",
        "\n",
        "# XML dosyasını oluşturma (varsa ekleme yapacak)\n",
        "def create_or_update_xml(filename=\"aek_data.xml\"):\n",
        "    # Dosya mevcutsa, aç ve kök elemanı al\n",
        "    if os.path.exists(filename):\n",
        "        tree = ET.parse(filename)\n",
        "        root = tree.getroot()\n",
        "    else:\n",
        "        root = ET.Element(\"AEKlar\")\n",
        "\n",
        "    # Kullanıcıdan veri al\n",
        "    title = input(\"Başlık: \")\n",
        "    subject = input(\"Anahtar Kelimeler: \")\n",
        "    description = input(\"Açıklama: \")\n",
        "    creator = input(\"Oluşturan Kişi: \")\n",
        "    license = input(\"Lisans: \")\n",
        "    language = input(\"Dil: \")\n",
        "    identifier = input(\"Kaynak URL'si: \")\n",
        "\n",
        "    # Yeni AEK kaydını oluştur\n",
        "    aek = ET.SubElement(root, \"AEK\")\n",
        "    ET.SubElement(aek, \"Title\").text = title\n",
        "    ET.SubElement(aek, \"Subject\").text = subject\n",
        "    ET.SubElement(aek, \"Description\").text = description\n",
        "    ET.SubElement(aek, \"Creator\").text = creator\n",
        "    ET.SubElement(aek, \"License\").text = license\n",
        "    ET.SubElement(aek, \"Language\").text = language\n",
        "    ET.SubElement(aek, \"Identifier\").text = identifier\n",
        "\n",
        "    # Güncellenmiş XML dosyasını kaydet\n",
        "    tree = ET.ElementTree(root)\n",
        "    tree.write(filename, encoding=\"utf-8\", xml_declaration=True)\n",
        "    print(f\"{filename} dosyasına veri başarıyla eklendi.\")\n",
        "\n",
        "# XML dosyasını okuma ve listeleme\n",
        "def read_from_xml(filename=\"aek_data.xml\"):\n",
        "    if not os.path.exists(filename):\n",
        "        print(f\"{filename} dosyası bulunamadı!\")\n",
        "        return []\n",
        "\n",
        "    tree = ET.parse(filename)\n",
        "    root = tree.getroot()\n",
        "    records = []\n",
        "\n",
        "    for item in root.findall(\"AEK\"):\n",
        "        record = {child.tag: child.text for child in item}\n",
        "        records.append(record)\n",
        "\n",
        "    return records\n",
        "\n",
        "# Ana işlem: Veri ekle ve dosyayı oku\n",
        "def main():\n",
        "    filename = \"aek_data.xml\"\n",
        "\n",
        "    # Kullanıcıdan veri alıp XML dosyasına ekle\n",
        "    create_or_update_xml(filename)\n",
        "\n",
        "    # XML dosyasını oku ve verileri listele\n",
        "    records = read_from_xml(filename)\n",
        "    if records:\n",
        "        print(\"\\nListelenen AEK Verileri:\")\n",
        "        for record in records:\n",
        "            print(record)\n",
        "\n",
        "# Programı çalıştır\n",
        "main()"
      ]
    }
  ]
}