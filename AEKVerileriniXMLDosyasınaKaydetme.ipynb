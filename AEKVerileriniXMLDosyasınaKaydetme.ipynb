{
  "nbformat": 4,
  "nbformat_minor": 0,
  "metadata": {
    "colab": {
      "provenance": [],
      "authorship_tag": "ABX9TyPpK3lm8Wc13MkbhdSwJmdQ",
      "include_colab_link": true
    },
    "kernelspec": {
      "name": "python3",
      "display_name": "Python 3"
    },
    "language_info": {
      "name": "python"
    }
  },
  "cells": [
    {
      "cell_type": "markdown",
      "metadata": {
        "id": "view-in-github",
        "colab_type": "text"
      },
      "source": [
        "<a href=\"https://colab.research.google.com/github/zeyneptaskinnn/hackathon/blob/main/AEKVerileriniXMLDosyas%C4%B1naKaydetme.ipynb\" target=\"_parent\"><img src=\"https://colab.research.google.com/assets/colab-badge.svg\" alt=\"Open In Colab\"/></a>"
      ]
    },
    {
      "cell_type": "code",
      "execution_count": 1,
      "metadata": {
        "id": "QWT0f18AZCvW"
      },
      "outputs": [],
      "source": [
        "import xml.etree.ElementTree as ET\n",
        "\n",
        "def save_to_xml(data, filename=\"aek_data.xml\"):\n",
        "    root = ET.Element(\"AEKRecords\")\n",
        "    for record in data:\n",
        "        item = ET.SubElement(root, \"AEK\")\n",
        "        for key, value in record.items():\n",
        "            sub_element = ET.SubElement(item, key)\n",
        "            sub_element.text = value\n",
        "    tree = ET.ElementTree(root)\n",
        "    tree.write(filename, encoding=\"utf-8\", xml_declaration=True)\n",
        "\n",
        "# Örnek veri\n",
        "data = [\n",
        "    {\n",
        "        \"Title\": \"Python Giriş\",\n",
        "        \"Subject\": \"Programlama\",\n",
        "        \"Description\": \"Python diline giriş ders notları.\",\n",
        "        \"Creator\": \"Açık Üniversite\",\n",
        "        \"License\": \"CC BY-SA\",\n",
        "        \"Language\": \"Türkçe\",\n",
        "        \"Identifier\": \"https://example.com/python-giris\"\n",
        "    }\n",
        "]\n",
        "save_to_xml(data)"
      ]
    }
  ]
}