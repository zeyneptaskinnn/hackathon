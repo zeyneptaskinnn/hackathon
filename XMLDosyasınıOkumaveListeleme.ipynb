{
  "nbformat": 4,
  "nbformat_minor": 0,
  "metadata": {
    "colab": {
      "provenance": [],
      "authorship_tag": "ABX9TyOhO6F0YKxMO+OGgKKDpJPM",
      "include_colab_link": true
    },
    "kernelspec": {
      "name": "python3",
      "display_name": "Python 3"
    },
    "language_info": {
      "name": "python"
    }
  },
  "cells": [
    {
      "cell_type": "markdown",
      "metadata": {
        "id": "view-in-github",
        "colab_type": "text"
      },
      "source": [
        "<a href=\"https://colab.research.google.com/github/zeyneptaskinnn/hackathon/blob/main/XMLDosyas%C4%B1n%C4%B1OkumaveListeleme.ipynb\" target=\"_parent\"><img src=\"https://colab.research.google.com/assets/colab-badge.svg\" alt=\"Open In Colab\"/></a>"
      ]
    },
    {
      "cell_type": "code",
      "source": [
        "import xml.etree.ElementTree as ET\n",
        "import os\n",
        "\n",
        "# XML dosyasını oluşturma\n",
        "def create_sample_xml(filename=\"aek_data.xml\"):\n",
        "    root = ET.Element(\"AEKlar\")\n",
        "    aek = ET.SubElement(root, \"AEK\")\n",
        "    ET.SubElement(aek, \"Title\").text = \"Deneme Başlık\"\n",
        "    ET.SubElement(aek, \"Subject\").text = \"Programlama\"\n",
        "    ET.SubElement(aek, \"Description\").text = \"Örnek AEK açıklaması\"\n",
        "    ET.SubElement(aek, \"Creator\").text = \"Zeynep\"\n",
        "    ET.SubElement(aek, \"License\").text = \"Creative Commons\"\n",
        "    ET.SubElement(aek, \"Language\").text = \"Türkçe\"\n",
        "    ET.SubElement(aek, \"Identifier\").text = \"https://example.com\"\n",
        "\n",
        "    tree = ET.ElementTree(root)\n",
        "    tree.write(filename, encoding=\"utf-8\", xml_declaration=True)\n",
        "    print(f\"{filename} dosyası oluşturuldu.\")\n",
        "\n",
        "# XML dosyasını okuma ve listeleme\n",
        "def read_from_xml(filename=\"aek_data.xml\"):\n",
        "    # Dosyanın mevcut olup olmadığını kontrol et\n",
        "    if not os.path.exists(filename):\n",
        "        print(f\"{filename} dosyası bulunamadı!\")\n",
        "        return []\n",
        "\n",
        "    tree = ET.parse(filename)\n",
        "    root = tree.getroot()\n",
        "    records = []\n",
        "\n",
        "    for item in root.findall(\"AEK\"):\n",
        "        record = {child.tag: child.text for child in item}\n",
        "        records.append(record)\n",
        "\n",
        "    return records\n",
        "\n",
        "# Ana işlem: Dosya oluşturma ve okuma\n",
        "def main():\n",
        "    filename = \"aek_data.xml\"\n",
        "\n",
        "    # Dosya oluşturulmamışsa, oluşturulacak\n",
        "    if not os.path.exists(filename):\n",
        "        create_sample_xml(filename)\n",
        "\n",
        "    # XML dosyasını oku ve verileri listele\n",
        "    records = read_from_xml(filename)\n",
        "    if records:\n",
        "        for record in records:\n",
        "            print(record)\n",
        "\n",
        "# Programı çalıştır\n",
        "main()"
      ],
      "metadata": {
        "colab": {
          "base_uri": "https://localhost:8080/"
        },
        "id": "U_vndRMUa2N4",
        "outputId": "f6baa1a2-891a-435e-caee-e78177f5c3fa"
      },
      "execution_count": 3,
      "outputs": [
        {
          "output_type": "stream",
          "name": "stdout",
          "text": [
            "aek_data.xml dosyası oluşturuldu.\n",
            "{'Title': 'Deneme Başlık', 'Subject': 'Programlama', 'Description': 'Örnek AEK açıklaması', 'Creator': 'Zeynep', 'License': 'Creative Commons', 'Language': 'Türkçe', 'Identifier': 'https://example.com'}\n"
          ]
        }
      ]
    },
    {
      "cell_type": "code",
      "source": [
        "import xml.etree.ElementTree as ET\n",
        "\n",
        "def read_from_xml(filename=\"aek_data.xml\"):\n",
        "    tree = ET.parse(filename)\n",
        "    root = tree.getroot()\n",
        "    records = []\n",
        "    for item in root.findall(\"AEK\"):\n",
        "        record = {child.tag: child.text for child in item}\n",
        "        records.append(record)\n",
        "    return records\n",
        "\n",
        "# Dosyayı okuma ve listeleme\n",
        "records = read_from_xml()\n",
        "for record in records:\n",
        "    print(record)"
      ],
      "metadata": {
        "colab": {
          "base_uri": "https://localhost:8080/"
        },
        "id": "ifRc_JrhbATH",
        "outputId": "04e39814-55cf-4161-fcf5-c36e73d9fc19"
      },
      "execution_count": 4,
      "outputs": [
        {
          "output_type": "stream",
          "name": "stdout",
          "text": [
            "{'Title': 'Deneme Başlık', 'Subject': 'Programlama', 'Description': 'Örnek AEK açıklaması', 'Creator': 'Zeynep', 'License': 'Creative Commons', 'Language': 'Türkçe', 'Identifier': 'https://example.com'}\n"
          ]
        }
      ]
    }
  ]
}